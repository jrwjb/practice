{
 "cells": [
  {
   "cell_type": "code",
   "execution_count": 18,
   "metadata": {},
   "outputs": [],
   "source": [
    "import numpy as np\n",
    "\n",
    "\n",
    "def loadDataSet():\n",
    "    dataSet=[['my', 'dog', 'has', 'flea', 'problems', 'help', 'please'],\n",
    "             ['maybe', 'not', 'take', 'him', 'to', 'dog', 'park', 'stupid'],\n",
    "             ['my', 'dalmation', 'is', 'so', 'cute', 'I', 'love', 'him'],\n",
    "             ['stop', 'posting', 'stupid', 'worthless', 'garbage'],\n",
    "             ['mr', 'licks', 'ate', 'my', 'steak', 'how', 'to', 'stop', 'him'],\n",
    "             ['quit', 'buying', 'worthless', 'dog', 'food', 'stupid']] # 切分好的词条\n",
    "    classVec = [0,1,0,1,0,1] # 类别标签向量，1 代表侮辱性词汇，0 代表非侮辱性词汇\n",
    "    return dataSet,classVec\n",
    "dataSet,classVec = loadDataSet()"
   ]
  },
  {
   "cell_type": "code",
   "execution_count": 2,
   "metadata": {},
   "outputs": [
    {
     "data": {
      "text/plain": [
       "['problems',\n",
       " 'is',\n",
       " 'help',\n",
       " 'cute',\n",
       " 'posting',\n",
       " 'buying',\n",
       " 'take',\n",
       " 'stupid',\n",
       " 'quit',\n",
       " 'flea',\n",
       " 'please',\n",
       " 'how',\n",
       " 'garbage',\n",
       " 'maybe',\n",
       " 'stop',\n",
       " 'my',\n",
       " 'him',\n",
       " 'dog',\n",
       " 'steak',\n",
       " 'ate',\n",
       " 'mr',\n",
       " 'dalmation',\n",
       " 'to',\n",
       " 'has',\n",
       " 'love',\n",
       " 'worthless',\n",
       " 'licks',\n",
       " 'food',\n",
       " 'park',\n",
       " 'not',\n",
       " 'so',\n",
       " 'I']"
      ]
     },
     "execution_count": 2,
     "metadata": {},
     "output_type": "execute_result"
    }
   ],
   "source": [
    "def createVocabList(dataSet):\n",
    "    vocabSet = set()\n",
    "    for i in dataSet:\n",
    "        vocabSet = vocabSet | set(i)\n",
    "        vocabList = list(vocabSet)\n",
    "    return vocabList\n",
    "\n",
    "vocabList = createVocabList(dataSet)\n",
    "vocabList"
   ]
  },
  {
   "cell_type": "code",
   "execution_count": 4,
   "metadata": {},
   "outputs": [],
   "source": [
    "# 词汇表向量的转化\n",
    "def word2vec(vocabList, inputSet):\n",
    "    vec = [0] * len(vocabList)\n",
    "    for i in inputSet:\n",
    "        if i in vocabList:\n",
    "            vec[vocabList.index(i)] = 1\n",
    "    return vec\n"
   ]
  },
  {
   "cell_type": "code",
   "execution_count": 5,
   "metadata": {},
   "outputs": [],
   "source": [
    "def get_trainMat(dataSet):\n",
    "    trainMat = []\n",
    "    vocabList = createVocabList(dataSet)\n",
    "    for i in dataSet:\n",
    "        vec = word2vec(vocabList, i)\n",
    "        trainMat.append(vec)\n",
    "    return trainMat\n"
   ]
  },
  {
   "cell_type": "code",
   "execution_count": 19,
   "metadata": {},
   "outputs": [],
   "source": [
    "def trainNB(trainMat, classVec):\n",
    "    n = len(trainMat)   # 训练的文档数目\n",
    "    m = len(trainMat[0])  # 每篇文档的词条数，即词汇表长度\n",
    "    pAb = sum(classVec) / n   # 文档属于侮辱类的概率\n",
    "    p0Num = np.ones(m)\n",
    "    p1Num = np.ones(m)\n",
    "    p0Denom = 2\n",
    "    p1Denom = 2\n",
    "    for i in range(n):\n",
    "        if classVec[i] == 1:\n",
    "            p1Num += trainMat[i]\n",
    "            p1Denom += sum(trainMat[i])\n",
    "        else:\n",
    "            p0Num += trainMat[i]\n",
    "            p0Denom += sum(trainMat[i])\n",
    "    p1v = np.log(p1Num / p1Denom)\n",
    "    p0v = np.log(p0Num / p0Denom)\n",
    "    return p0v, p1v, pAb\n"
   ]
  },
  {
   "cell_type": "code",
   "execution_count": 20,
   "metadata": {},
   "outputs": [],
   "source": [
    "from functools import reduce\n",
    "\n",
    "def classifyNB(vec2classify, p0v, p1v, pAb):\n",
    "    p1 = sum(vec2classify * p1v) + np.log(pAb)\n",
    "    p0 = sum(vec2classify * p0v) + np.log(1 - pAb)\n",
    "    if p1 > p0:\n",
    "        return 1\n",
    "    else:\n",
    "        return 0\n",
    "    "
   ]
  },
  {
   "cell_type": "code",
   "execution_count": 21,
   "metadata": {},
   "outputs": [
    {
     "name": "stdout",
     "output_type": "stream",
     "text": [
      "['love', 'my', 'dalmation'] 属于非侮辱类\n"
     ]
    }
   ],
   "source": [
    "def testingNB(testVec):\n",
    "    dataSet,classVec = loadDataSet() #创建实验样本\n",
    "    vocabList = createVocabList(dataSet) #创建词汇表\n",
    "    trainMat= get_trainMat(dataSet) #将实验样本向量化\n",
    "    p0V,p1V,pAb = trainNB(trainMat,classVec) #训练朴素贝叶斯分类器\n",
    "    thisone = word2vec(vocabList, testVec) #测试样本向量化\n",
    "    if classifyNB(thisone,p0V,p1V,pAb):\n",
    "        print(testVec,'属于侮辱类') #执行分类并打印分类结果\n",
    "    else:\n",
    "        print(testVec,'属于非侮辱类') #执行分类并打印分类结果\n",
    "#测试样本1\n",
    "testVec1 = ['love', 'my', 'dalmation']\n",
    "testingNB(testVec1)"
   ]
  },
  {
   "cell_type": "code",
   "execution_count": 22,
   "metadata": {},
   "outputs": [
    {
     "name": "stdout",
     "output_type": "stream",
     "text": [
      "['stupid', 'garbage'] 属于侮辱类\n"
     ]
    }
   ],
   "source": [
    "testVec2 = ['stupid', 'garbage']\n",
    "testingNB(testVec2)"
   ]
  },
  {
   "cell_type": "markdown",
   "metadata": {},
   "source": [
    "由朴素贝叶斯分类器的公式可知，利用贝叶斯分类器对文档进行分类时，要计算多个概率的乘积以获得文档属于某个类别的概率。如果其中有一个概率值为 0，那么最后的成绩也为 0。显然，这样是不合理的，为了降低这种影响，可以将所有词的出现数初始化为 1，并将分母初始化为 2。这种做法就叫做拉普拉斯平滑 (Laplace Smoothing）又被称为加 1 平滑，是比较常用的平滑方法，它就是为了解决 0 概率问题\n",
    "另外一个遇到的问题就是下溢出，这是由于太多很小的数相乘造成的。我们在计算乘积时，由于大部分因子都很小，所以程序会下溢或者得不到正确答案。为了解决这个问题，对乘积结果取自然对数。通过求对数可以避免下溢出或者浮点数舍入导致的错误。同时，采用自然对数进行处理不会有任何损失"
   ]
  }
 ],
 "metadata": {
  "kernelspec": {
   "display_name": "Python 3",
   "language": "python",
   "name": "python3"
  },
  "language_info": {
   "codemirror_mode": {
    "name": "ipython",
    "version": 3
   },
   "file_extension": ".py",
   "mimetype": "text/x-python",
   "name": "python",
   "nbconvert_exporter": "python",
   "pygments_lexer": "ipython3",
   "version": "3.6.7"
  }
 },
 "nbformat": 4,
 "nbformat_minor": 2
}
